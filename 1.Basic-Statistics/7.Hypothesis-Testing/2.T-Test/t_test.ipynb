{
 "cells": [
  {
   "cell_type": "markdown",
   "metadata": {},
   "source": [
    "# Hypothesis Testing (T-test)\n",
    "\n",
    "**Hypothesis testing** is a statistical method used to determine whether there is enough evidence in a sample to support or reject a claim about the population. A **T-test** is used when the **population standard deviation is unknown** and the **sample size is small** (typically $n < 30$). However, it can also be applied for larger samples if the population standard deviation is not available.\n",
    "\n",
    "---\n",
    "\n",
    "## Purpose of T-test\n",
    "\n",
    "The T-test helps determine whether the difference between the **sample mean** and the **population mean** is statistically significant or just due to chance. It is commonly used for:  \n",
    "- Testing whether the sample mean differs from the population mean.  \n",
    "- Comparing two independent sample means.  \n",
    "- Testing paired samples (dependent samples).\n",
    "\n",
    "---\n",
    "\n",
    "## Steps in Hypothesis Testing (T-test)\n",
    "\n",
    "1. **Formulate Hypotheses**  \n",
    "   - **Null Hypothesis** $H_0$: The average weight of a bag of chips is **greater than or equal to 150 grams** (no significant difference).  \n",
    "     $$H_0: \\mu \\geq 150$$  \n",
    "   - **Alternative Hypothesis** $H_1$: The average weight of a bag of chips is **less than 150 grams**.  \n",
    "     $$H_1: \\mu < 150$$  \n",
    "\n",
    "2. **Set the Significance Level**  \n",
    "   The significance level, denoted by $\\alpha$, represents the probability of rejecting the null hypothesis when it is true. Typically, $\\alpha = 0.05$.  \n",
    "\n",
    "3. **Calculate the T-statistic**  \n",
    "   The T-statistic measures how far the sample mean is from the population mean in terms of standard errors:  \n",
    "   $$T = \\frac{\\bar{X} - \\mu_0}{s / \\sqrt{n}}$$  \n",
    "   Where:  \n",
    "   - $\\bar{X} = 148$ is the sample mean  \n",
    "   - $\\mu_0 = 150$ is the population mean under the null hypothesis  \n",
    "   - $s = 5$ is the sample standard deviation  \n",
    "   - $n = 25$ is the sample size  \n",
    "\n",
    "   Substituting the values:  \n",
    "   $$T = \\frac{148 - 150}{5 / \\sqrt{25}} = \\frac{-2}{5 / 5} = \\frac{-2}{1} = -2.0$$  \n",
    "\n",
    "4. **Determine the Critical Value or p-value**  \n",
    "   - For a **one-tailed T-test** at $\\alpha = 0.05$ with $n - 1 = 24$ degrees of freedom, the critical value from the T-table is approximately $t_{0.05, 24} = -1.711$.  \n",
    "\n",
    "5. **Decision**  \n",
    "   - Since $T = -2.0 < -1.711$, we reject $H_0$.  \n",
    "\n",
    "6. **Conclusion**  \n",
    "   - The sample provides sufficient evidence to reject the manufacturer’s claim. The average weight of the bags of potato chips is likely **less than 150 grams**.\n",
    "\n",
    "---\n",
    "\n",
    "## Example Question:\n",
    "\n",
    "**A manufacturer claims that the average weight of a bag of potato chips is 150 grams. A sample of 25 bags is taken, and the average weight is found to be 148 grams, with a standard deviation of 5 grams. Test the manufacturer's claim using a one-tailed T-test with a significance level of 0.05.**\n"
   ]
  },
  {
   "cell_type": "code",
   "execution_count": 48,
   "metadata": {},
   "outputs": [],
   "source": [
    "import scipy.stats as st\n",
    "import numpy as np"
   ]
  },
  {
   "cell_type": "code",
   "execution_count": 49,
   "metadata": {},
   "outputs": [],
   "source": [
    "# Given \n",
    "sample_mean = 148\n",
    "pop_mean = 150\n",
    "sample_size = 25\n",
    "std = 5\n",
    "alpha = 0.05"
   ]
  },
  {
   "cell_type": "code",
   "execution_count": 50,
   "metadata": {},
   "outputs": [],
   "source": [
    "df = sample_size-1"
   ]
  },
  {
   "cell_type": "code",
   "execution_count": 51,
   "metadata": {},
   "outputs": [
    {
     "data": {
      "text/plain": [
       "-1.7108820799094282"
      ]
     },
     "execution_count": 51,
     "metadata": {},
     "output_type": "execute_result"
    }
   ],
   "source": [
    "t_table = st.t.ppf(alpha, df)\n",
    "t_table"
   ]
  },
  {
   "cell_type": "code",
   "execution_count": 52,
   "metadata": {},
   "outputs": [
    {
     "data": {
      "text/plain": [
       "-2.0"
      ]
     },
     "execution_count": 52,
     "metadata": {},
     "output_type": "execute_result"
    }
   ],
   "source": [
    "t_cal = (sample_mean - pop_mean)/(std/np.sqrt(sample_size))\n",
    "t_cal"
   ]
  },
  {
   "cell_type": "code",
   "execution_count": 53,
   "metadata": {},
   "outputs": [
    {
     "name": "stdout",
     "output_type": "stream",
     "text": [
      "H0 is right\n"
     ]
    }
   ],
   "source": [
    "if(t_table<t_cal):\n",
    "    print('Ha is right')  # H0 is right means claim of the company is wrong.\n",
    "else:\n",
    "    print('H0 is right')"
   ]
  },
  {
   "cell_type": "markdown",
   "metadata": {},
   "source": [
    "## Example 2:\n",
    "\n",
    "**A company wants to test whether there is a difference in productivity between two teams. They randomly select 20 employees from each team and record their productivity scores. The mean productivity score for Team A is 80 with a standard deviation of 5, while the mean productivity score for Team B is 75 with a standard deviation of 6. Test at a 5% level of significance whether there is a difference in productivity between the two teams.**\n",
    "\n",
    "---\n",
    "\n",
    "### Step 1: Set the Hypotheses\n",
    "- **Null Hypothesis $H_0$**: There is no difference in the mean productivity scores between Team A and Team B.  \n",
    "  $H_0: \\mu_A = \\mu_B$\n",
    "\n",
    "- **Alternative Hypothesis $H_1$**: There is a difference in the mean productivity scores between Team A and Team B.  \n",
    "  $H_1: \\mu_A \\neq \\mu_B$\n",
    "\n",
    "This will be a **two-tailed test** since we are testing for any difference (not direction-specific).\n",
    "\n",
    "---\n",
    "\n",
    "### Step 2: Calculate the Test Statistic\n",
    "The formula for the **t-statistic** for two independent samples is:\n",
    "\n",
    "$$\n",
    "t = \\frac{\\bar{X}_A - \\bar{X}_B}{\\sqrt{\\frac{s_A^2}{n_A} + \\frac{s_B^2}{n_B}}}\n",
    "$$\n",
    "\n",
    "Where:  \n",
    "- $\\bar{X}_A = 80$: Mean of Team A  \n",
    "- $\\bar{X}_B = 75$: Mean of Team B  \n",
    "- $s_A = 5$: Standard deviation of Team A  \n",
    "- $s_B = 6$: Standard deviation of Team B  \n",
    "- $n_A = 20$: Sample size for Team A  \n",
    "- $n_B = 20$: Sample size for Team B  \n",
    "\n",
    "Now, plug in the values:\n",
    "\n",
    "$$\n",
    "t = \\frac{80 - 75}{\\sqrt{\\frac{5^2}{20} + \\frac{6^2}{20}}}  \n",
    "= \\frac{5}{\\sqrt{\\frac{25}{20} + \\frac{36}{20}}}  \n",
    "= \\frac{5}{\\sqrt{1.25 + 1.8}}  \n",
    "= \\frac{5}{\\sqrt{3.05}}  \n",
    "= \\frac{5}{1.747} \\approx 2.86\n",
    "$$\n",
    "\n",
    "---\n",
    "\n",
    "### Step 3: Determine the Critical Value and p-value\n",
    "- **Degrees of freedom** (using Welch's approximation) is:\n",
    "\n",
    "$$\n",
    "df \\approx \\frac{\\left(\\frac{s_A^2}{n_A} + \\frac{s_B^2}{n_B}\\right)^2}{\\frac{\\left(\\frac{s_A^2}{n_A}\\right)^2}{n_A - 1} + \\frac{\\left(\\frac{s_B^2}{n_B}\\right)^2}{n_B - 1}}\n",
    "$$\n",
    "\n",
    "Plugging in the values:\n",
    "\n",
    "$$\n",
    "df \\approx \\frac{(1.25 + 1.8)^2}{\\frac{1.25^2}{19} + \\frac{1.8^2}{19}}  \n",
    "\\approx \\frac{9.3025}{0.0822 + 0.1705}  \n",
    "\\approx \\frac{9.3025}{0.2527} \\approx 36.8\n",
    "$$\n",
    "\n",
    "We round down to 36 degrees of freedom.\n",
    "\n",
    "- **Critical value** for a two-tailed test with $\\alpha = 0.05$ and 36 degrees of freedom is approximately **±2.028**.\n",
    "\n",
    "- For simplicity $df$ = ($n_A$ + $n_B$ - 2 )\n",
    "\n",
    "---\n",
    "\n",
    "### Step 4: Conclusion\n",
    "- **Compare the t-statistic**: $t = 2.86$  \n",
    "- **Critical value**: ±2.028  \n",
    "\n",
    "Since $|t| = 2.86$ is greater than the critical value of 2.028, we **reject the null hypothesis**.\n",
    "\n",
    "---\n",
    "\n",
    "### Step 5: Final Conclusion\n",
    "At the 5% significance level, there is sufficient evidence to conclude that there is a significant difference in the mean productivity scores between Team A and Team B.\n",
    "\n",
    "---\n"
   ]
  },
  {
   "cell_type": "code",
   "execution_count": 54,
   "metadata": {},
   "outputs": [],
   "source": [
    "# Given\n",
    "a_sample_mean = 80\n",
    "b_sample_mean = 75\n",
    "a_sample_size = b_sample_size = 20\n",
    "std_a = 5\n",
    "std_b = 6\n",
    "alpha = 0.05"
   ]
  },
  {
   "cell_type": "code",
   "execution_count": 55,
   "metadata": {},
   "outputs": [
    {
     "data": {
      "text/plain": [
       "38"
      ]
     },
     "execution_count": 55,
     "metadata": {},
     "output_type": "execute_result"
    }
   ],
   "source": [
    "df = (a_sample_size + b_sample_size - 2) # employees are different in two sample\n",
    "df"
   ]
  },
  {
   "cell_type": "code",
   "execution_count": 56,
   "metadata": {},
   "outputs": [
    {
     "data": {
      "text/plain": [
       "-1.6859544601667373"
      ]
     },
     "execution_count": 56,
     "metadata": {},
     "output_type": "execute_result"
    }
   ],
   "source": [
    "t_table = st.t.ppf(alpha, df)\n",
    "t_table"
   ]
  },
  {
   "cell_type": "code",
   "execution_count": 57,
   "metadata": {},
   "outputs": [
    {
     "data": {
      "text/plain": [
       "2.862991671569341"
      ]
     },
     "execution_count": 57,
     "metadata": {},
     "output_type": "execute_result"
    }
   ],
   "source": [
    "t_cal = (a_sample_mean - b_sample_mean)/np.sqrt((std_a**2/a_sample_size + std_b**2/b_sample_size))\n",
    "t_cal"
   ]
  },
  {
   "cell_type": "code",
   "execution_count": 58,
   "metadata": {},
   "outputs": [
    {
     "name": "stdout",
     "output_type": "stream",
     "text": [
      "Ha is right\n"
     ]
    }
   ],
   "source": [
    "if(t_table<t_cal):\n",
    "    print('Ha is right')  \n",
    "else:\n",
    "    print('H0 is right')    # Ha is right means claim is right (there is difference between productivity)"
   ]
  },
  {
   "cell_type": "markdown",
   "metadata": {},
   "source": [
    "**Example 3:**\n",
    "\n",
    "A company wants to test whether a new training program improves the typing speed of its employees. The typing speed of 20 employees was recorded before and after the training program. The data is given below. Test at a 5% level of significance whether the training program has an effect on the typing speed of the employees.\n",
    "\n",
    "- **Before:** 50, 60, 45, 65, 55, 70, 40, 75, 80, 65, 70, 60, 50, 55, 45, 75, 60, 50, 65, 70\n",
    "- **After:** 60, 70, 55, 75, 65, 80, 50, 85, 90, 70, 75, 65, 55, 60, 50, 80, 65, 55, 70, 75\n"
   ]
  },
  {
   "cell_type": "code",
   "execution_count": 59,
   "metadata": {},
   "outputs": [],
   "source": [
    "# Given\n",
    "before = np.array([50, 60, 45, 65, 55, 70, 40, 75, 80, 65, 70, 60, 50, 55, 45, 75, 60, 50, 65, 70])\n",
    "after = np.array([60, 70, 55, 75, 65, 80, 50, 85, 90, 70, 75, 65, 55, 60, 50, 80, 65, 55, 70, 75])\n",
    "\n",
    "sample_size = 20\n",
    "alpha = 0.025"
   ]
  },
  {
   "cell_type": "code",
   "execution_count": 60,
   "metadata": {},
   "outputs": [],
   "source": [
    "std_before = np.std(before)\n",
    "std_after = np.std(after)\n",
    "mean_after = np.mean(after)\n",
    "mean_before = np.mean(before)\n",
    "sample_size = 20\n",
    "\n",
    "df = sample_size-1  # employees are same in two sample\n"
   ]
  },
  {
   "cell_type": "code",
   "execution_count": 61,
   "metadata": {},
   "outputs": [
    {
     "data": {
      "text/plain": [
       "2.093024054408263"
      ]
     },
     "execution_count": 61,
     "metadata": {},
     "output_type": "execute_result"
    }
   ],
   "source": [
    "t_table = st.t.ppf(1-alpha, df)\n",
    "t_table"
   ]
  },
  {
   "cell_type": "code",
   "execution_count": 62,
   "metadata": {},
   "outputs": [
    {
     "data": {
      "text/plain": [
       "2.061200527128206"
      ]
     },
     "execution_count": 62,
     "metadata": {},
     "output_type": "execute_result"
    }
   ],
   "source": [
    "t_cal = (mean_after - mean_before)/np.sqrt(std_after**2/sample_size + std_before**2/sample_size)\n",
    "t_cal"
   ]
  },
  {
   "cell_type": "code",
   "execution_count": 63,
   "metadata": {},
   "outputs": [
    {
     "name": "stdout",
     "output_type": "stream",
     "text": [
      "H0 is right\n"
     ]
    }
   ],
   "source": [
    "if(t_table<t_cal):\n",
    "    print('Ha is right')  \n",
    "else:\n",
    "    print('H0 is right')    # H0 is right means claim is wrong (program has no effect)"
   ]
  }
 ],
 "metadata": {
  "kernelspec": {
   "display_name": "base",
   "language": "python",
   "name": "python3"
  },
  "language_info": {
   "codemirror_mode": {
    "name": "ipython",
    "version": 3
   },
   "file_extension": ".py",
   "mimetype": "text/x-python",
   "name": "python",
   "nbconvert_exporter": "python",
   "pygments_lexer": "ipython3",
   "version": "3.12.4"
  }
 },
 "nbformat": 4,
 "nbformat_minor": 2
}
