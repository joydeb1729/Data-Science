{
 "cells": [
  {
   "cell_type": "markdown",
   "metadata": {},
   "source": [
    "# Hypothesis Testing (Chi-Square Test)\n",
    "\n",
    "The **Chi-Square Test** is a statistical method used to determine whether there is a significant association between two categorical variables. It compares the observed results with the expected results under the assumption that there is no relationship between the variables (null hypothesis).\n",
    "\n",
    "---\n",
    "\n",
    "## Types of Chi-Square Tests\n",
    "1. **Chi-Square Goodness of Fit Test**  \n",
    "   - Used to determine whether the distribution of a single categorical variable matches an expected distribution.\n",
    "\n",
    "2. **Chi-Square Test of Independence**  \n",
    "   - Used to test whether two categorical variables are independent of each other.\n",
    "\n",
    "---\n",
    "\n",
    "## Hypotheses in Chi-Square Test\n",
    "- **Null Hypothesis (H₀):** There is no association between the variables (or the observed distribution fits the expected distribution).  \n",
    "- **Alternative Hypothesis (H₁):** There is an association between the variables (or the observed distribution does not fit the expected distribution).\n",
    "\n",
    "---\n",
    "\n",
    "## Formula for Chi-Square Statistic\n",
    "$$\n",
    "\\chi^2 = \\sum \\frac{(O_i - E_i)^2}{E_i}\n",
    "$$\n",
    "\n",
    "Where:  \n",
    "- $O_i$ = Observed frequency  \n",
    "- $E_i$ = Expected frequency\n",
    "\n",
    "---\n"
   ]
  },
  {
   "cell_type": "markdown",
   "metadata": {},
   "source": [
    "## Example 1: Chi-Square Goodness of Fit Test\n",
    "\n",
    "A fair die is rolled 120 times, and the following results are obtained:  \n",
    "- **Face 1**: 22 times  \n",
    "- **Face 2**: 17 times  \n",
    "- **Face 3**: 20 times  \n",
    "- **Face 4**: 26 times  \n",
    "- **Face 5**: 22 times  \n",
    "- **Face 6**: 13 times  \n",
    "\n",
    "### Hypotheses:\n",
    "- **Null Hypothesis (H₀)**: The die is fair (each face appears with equal probability, i.e., $1/6$).  \n",
    "- **Alternative Hypothesis (H₁)**: The die is not fair (the observed frequencies deviate significantly from the expected frequencies).\n",
    "\n",
    "---\n",
    "\n",
    "### Step 1: Calculate the Expected Frequency  \n",
    "For a fair die, each face is equally likely.  \n",
    "\n",
    "$$\n",
    "\\text{Expected Frequency} = \\frac{120}{6} = 20\n",
    "$$  \n",
    "\n",
    "---\n",
    "\n",
    "### Step 2: Compute the Chi-Square Statistic  \n",
    "The formula for the chi-square statistic is:  \n",
    "\n",
    "$$\n",
    "\\chi^2 = \\sum \\frac{(O_i - E_i)^2}{E_i}\n",
    "$$  \n",
    "\n",
    "where $O_i$ is the observed frequency, and $E_i$ is the expected frequency.\n",
    "\n",
    "Using the data:  \n",
    "- $O_1 = 22$, $O_2 = 17$, $O_3 = 20$, $O_4 = 26$, $O_5 = 22$, $O_6 = 13$  \n",
    "- $E_i = 20$ for all faces\n",
    "\n",
    "Now, calculate the contributions for each face:\n",
    "\n",
    "$$\n",
    "\\frac{(22 - 20)^2}{20} = \\frac{4}{20} = 0.2\n",
    "$$\n",
    "\n",
    "$$\n",
    "\\frac{(17 - 20)^2}{20} = \\frac{9}{20} = 0.45\n",
    "$$\n",
    "\n",
    "$$\n",
    "\\frac{(20 - 20)^2}{20} = \\frac{0}{20} = 0\n",
    "$$\n",
    "\n",
    "$$\n",
    "\\frac{(26 - 20)^2}{20} = \\frac{36}{20} = 1.8\n",
    "$$\n",
    "\n",
    "$$\n",
    "\\frac{(22 - 20)^2}{20} = \\frac{4}{20} = 0.2\n",
    "$$\n",
    "\n",
    "$$\n",
    "\\frac{(13 - 20)^2}{20} = \\frac{49}{20} = 2.45\n",
    "$$\n",
    "\n",
    "Sum of all contributions:\n",
    "\n",
    "$$\n",
    "\\chi^2 = 0.2 + 0.45 + 0 + 1.8 + 0.2 + 2.45 = 5.1\n",
    "$$\n",
    "\n",
    "---\n",
    "\n",
    "### Step 3: Determine the Critical Value  \n",
    "For a 5% level of significance ($\\alpha = 0.05$) and $k - 1 = 6 - 1 = 5$ degrees of freedom, the critical value from the chi-square table is:  \n",
    "\n",
    "$$\n",
    "\\chi^2_{0.05, 5} = 11.07\n",
    "$$\n",
    "\n",
    "---\n",
    "\n",
    "### Step 4: Compare the Test Statistic with the Critical Value  \n",
    "\n",
    "$$\n",
    "\\chi^2 = 5.1 < 11.07\n",
    "$$\n",
    "\n",
    "---\n",
    "\n",
    "### Step 5: Conclusion  \n",
    "Since the test statistic $5.1$ is less than the critical value $11.07$, we **fail to reject the null hypothesis**. There is no significant evidence at the 5% level to conclude that the die is not fair.\n"
   ]
  },
  {
   "cell_type": "code",
   "execution_count": 103,
   "metadata": {},
   "outputs": [],
   "source": [
    "import numpy as np\n",
    "import scipy.stats as st"
   ]
  },
  {
   "cell_type": "code",
   "execution_count": 104,
   "metadata": {},
   "outputs": [],
   "source": [
    "observed = np.array([22, 17, 20, 26, 22, 13])\n",
    "size = len(observed)\n",
    "e = 120/6\n",
    "expected = np.array([e for i in range(6)])\n",
    "alpha = 0.05\n",
    "df = size-1"
   ]
  },
  {
   "cell_type": "code",
   "execution_count": 105,
   "metadata": {},
   "outputs": [
    {
     "data": {
      "text/plain": [
       "5.1000000000000005"
      ]
     },
     "execution_count": 105,
     "metadata": {},
     "output_type": "execute_result"
    }
   ],
   "source": [
    "chi_cal = np.sum(np.square(observed-expected)/e)\n",
    "chi_cal"
   ]
  },
  {
   "cell_type": "code",
   "execution_count": 106,
   "metadata": {},
   "outputs": [
    {
     "data": {
      "text/plain": [
       "11.070497693516351"
      ]
     },
     "execution_count": 106,
     "metadata": {},
     "output_type": "execute_result"
    }
   ],
   "source": [
    "chi_table = st.chi2.ppf(1-alpha, df)\n",
    "chi_table"
   ]
  },
  {
   "cell_type": "code",
   "execution_count": 107,
   "metadata": {},
   "outputs": [
    {
     "name": "stdout",
     "output_type": "stream",
     "text": [
      "H0 is right\n"
     ]
    }
   ],
   "source": [
    "if(chi_table<chi_cal):\n",
    "    print('Ha is right')  \n",
    "else:\n",
    "    print('H0 is right')   # H0 is right means die is fair  "
   ]
  },
  {
   "cell_type": "markdown",
   "metadata": {},
   "source": [
    "## Example 2: Chi-Square Test of Independence\n",
    "\n",
    "A study was conducted to investigate whether there is a relationship between gender and the preferred genre of music. A sample of 235 people was selected, and the collected data is shown below:\n",
    "\n",
    "|          | **Pop** | **Hip Hop** | **Classical** | **Rock** |\n",
    "|----------|---------|-------------|---------------|----------|\n",
    "| **Male** |   40    |      45     |      25       |    10    |\n",
    "| **Female** | 35    |      30     |      20       |    30    |\n",
    "\n",
    "---\n",
    "\n",
    "### Hypotheses:\n",
    "- **Null Hypothesis (H₀)**: There is no significant association between gender and music preference (they are independent).  \n",
    "- **Alternative Hypothesis (H₁)**: There is a significant association between gender and music preference.\n",
    "\n",
    "---\n",
    "\n",
    "### Step 1: Calculate the Expected Frequencies  \n",
    "The formula for the expected frequency is:  \n",
    "\n",
    "$$\n",
    "E_{ij} = \\frac{(R_i \\times C_j)}{n}\n",
    "$$  \n",
    "\n",
    "where $E_{ij}$ is the expected frequency for the $i^{th}$ row and $j^{th}$ column, $R_i$ is the total for row $i$, $C_j$ is the total for column $j$, and $n$ is the overall sample size.\n",
    "\n",
    "#### Row Totals:\n",
    "- Male: $40 + 45 + 25 + 10 = 120$  \n",
    "- Female: $35 + 30 + 20 + 30 = 115$  \n",
    "\n",
    "#### Column Totals:\n",
    "- Pop: $40 + 35 = 75$  \n",
    "- Hip Hop: $45 + 30 = 75$  \n",
    "- Classical: $25 + 20 = 45$  \n",
    "- Rock: $10 + 30 = 40$  \n",
    "\n",
    "Total sample size: $n = 235$\n",
    "\n",
    "---\n",
    "\n",
    "### Step 2: Compute the Expected Frequencies  \n",
    "For example, the expected frequency for **Male-Pop** is:  \n",
    "\n",
    "$$\n",
    "E_{Male, Pop} = \\frac{(120 \\times 75)}{235} = 38.3\n",
    "$$  \n",
    "\n",
    "The full table of expected frequencies is:\n",
    "\n",
    "|          | **Pop** | **Hip Hop** | **Classical** | **Rock** |\n",
    "|----------|---------|-------------|---------------|----------|\n",
    "| **Male** | 38.3    | 38.3        | 23.0          | 20.4     |\n",
    "| **Female** | 36.7  | 36.7        | 22.0          | 19.6     |\n",
    "\n",
    "---\n",
    "\n",
    "### Step 3: Compute the Chi-Square Statistic  \n",
    "The formula for the chi-square statistic is:  \n",
    "\n",
    "$$\n",
    "\\chi^2 = \\sum \\frac{(O_{ij} - E_{ij})^2}{E_{ij}}\n",
    "$$  \n",
    "\n",
    "Now, calculate the contributions for each cell:\n",
    "\n",
    "$$\n",
    "\\frac{(40 - 38.3)^2}{38.3} = 0.08\n",
    "$$\n",
    "\n",
    "$$\n",
    "\\frac{(45 - 38.3)^2}{38.3} = 1.17\n",
    "$$\n",
    "\n",
    "$$\n",
    "\\frac{(25 - 23.0)^2}{23.0} = 0.17\n",
    "$$\n",
    "\n",
    "$$\n",
    "\\frac{(10 - 20.4)^2}{20.4} = 5.30\n",
    "$$\n",
    "\n",
    "$$\n",
    "\\frac{(35 - 36.7)^2}{36.7} = 0.08\n",
    "$$\n",
    "\n",
    "$$\n",
    "\\frac{(30 - 36.7)^2}{36.7} = 1.22\n",
    "$$\n",
    "\n",
    "$$\n",
    "\\frac{(20 - 22.0)^2}{22.0} = 0.18\n",
    "$$\n",
    "\n",
    "$$\n",
    "\\frac{(30 - 19.6)^2}{19.6} = 5.45\n",
    "$$\n",
    "\n",
    "Sum of all contributions:\n",
    "\n",
    "$$\n",
    "\\chi^2 = 0.08 + 1.17 + 0.17 + 5.30 + 0.08 + 1.22 + 0.18 + 5.45 = 13.65\n",
    "$$\n",
    "\n",
    "---\n",
    "\n",
    "### Step 4: Determine the Critical Value  \n",
    "For a 5% level of significance ($\\alpha = 0.05$) and $(2 - 1)(4 - 1) = 3$ degrees of freedom, the critical value from the chi-square table is:\n",
    "\n",
    "$$\n",
    "\\chi^2_{0.05, 3} = 7.81\n",
    "$$\n",
    "\n",
    "---\n",
    "\n",
    "### Step 5: Compare the Test Statistic with the Critical Value  \n",
    "\n",
    "$$\n",
    "\\chi^2 = 13.65 > 7.81\n",
    "$$\n",
    "\n",
    "---\n",
    "\n",
    "### Step 6: Conclusion  \n",
    "Since the test statistic $13.65$ is greater than the critical value $7.81$, we **reject the null hypothesis**. There is significant evidence at the 5% level to conclude that there is an association between gender and music preference.\n",
    "\n",
    "---"
   ]
  },
  {
   "cell_type": "code",
   "execution_count": 108,
   "metadata": {},
   "outputs": [],
   "source": [
    "observed_row1 = np.array([40, 45, 25, 10])\n",
    "observed_row2 = np.array([35, 30, 20, 30])\n",
    "\n",
    "observed = np.array([40, 45, 25, 10, 35, 30, 20, 30])\n"
   ]
  },
  {
   "cell_type": "code",
   "execution_count": 109,
   "metadata": {},
   "outputs": [
    {
     "data": {
      "text/plain": [
       "235"
      ]
     },
     "execution_count": 109,
     "metadata": {},
     "output_type": "execute_result"
    }
   ],
   "source": [
    "sample_size = np.sum(observed)\n",
    "sample_size"
   ]
  },
  {
   "cell_type": "code",
   "execution_count": 110,
   "metadata": {},
   "outputs": [
    {
     "data": {
      "text/plain": [
       "array([120, 115])"
      ]
     },
     "execution_count": 110,
     "metadata": {},
     "output_type": "execute_result"
    }
   ],
   "source": [
    "row1_sum = np.sum(observed_row1)\n",
    "row2_sum = np.sum(observed_row2)\n",
    "\n",
    "row_sum = np.array([row1_sum, row2_sum])\n",
    "row_sum"
   ]
  },
  {
   "cell_type": "code",
   "execution_count": 111,
   "metadata": {},
   "outputs": [
    {
     "data": {
      "text/plain": [
       "array([75, 75, 45, 40])"
      ]
     },
     "execution_count": 111,
     "metadata": {},
     "output_type": "execute_result"
    }
   ],
   "source": [
    "col_sum = observed_row1+observed_row2\n",
    "col_sum"
   ]
  },
  {
   "cell_type": "code",
   "execution_count": 112,
   "metadata": {},
   "outputs": [
    {
     "data": {
      "text/plain": [
       "[38.297872340425535,\n",
       " 38.297872340425535,\n",
       " 22.97872340425532,\n",
       " 20.425531914893618,\n",
       " 36.702127659574465,\n",
       " 36.702127659574465,\n",
       " 22.02127659574468,\n",
       " 19.574468085106382]"
      ]
     },
     "execution_count": 112,
     "metadata": {},
     "output_type": "execute_result"
    }
   ],
   "source": [
    "expected = []\n",
    "\n",
    "for i in row_sum:\n",
    "    for j in col_sum:\n",
    "        expected.append((i*j)/sample_size)\n",
    "        \n",
    "expected"
   ]
  },
  {
   "cell_type": "code",
   "execution_count": 113,
   "metadata": {},
   "outputs": [
    {
     "data": {
      "text/plain": [
       "(8, 8)"
      ]
     },
     "execution_count": 113,
     "metadata": {},
     "output_type": "execute_result"
    }
   ],
   "source": [
    "len(observed), len(expected)"
   ]
  },
  {
   "cell_type": "code",
   "execution_count": 114,
   "metadata": {},
   "outputs": [
    {
     "data": {
      "text/plain": [
       "13.788747987117553"
      ]
     },
     "execution_count": 114,
     "metadata": {},
     "output_type": "execute_result"
    }
   ],
   "source": [
    "chi_cal = np.sum(np.square(observed-expected)/expected)\n",
    "chi_cal"
   ]
  },
  {
   "cell_type": "code",
   "execution_count": 115,
   "metadata": {},
   "outputs": [],
   "source": [
    "alpha = 0.05"
   ]
  },
  {
   "cell_type": "code",
   "execution_count": 116,
   "metadata": {},
   "outputs": [
    {
     "data": {
      "text/plain": [
       "(4, 2)"
      ]
     },
     "execution_count": 116,
     "metadata": {},
     "output_type": "execute_result"
    }
   ],
   "source": [
    "no_rows = len(col_sum)\n",
    "no_cols = len(row_sum)\n",
    "\n",
    "no_rows, no_cols"
   ]
  },
  {
   "cell_type": "code",
   "execution_count": 117,
   "metadata": {},
   "outputs": [
    {
     "data": {
      "text/plain": [
       "3"
      ]
     },
     "execution_count": 117,
     "metadata": {},
     "output_type": "execute_result"
    }
   ],
   "source": [
    "df = (no_rows-1) * (no_cols-1)\n",
    "df"
   ]
  },
  {
   "cell_type": "code",
   "execution_count": 118,
   "metadata": {},
   "outputs": [
    {
     "data": {
      "text/plain": [
       "7.814727903251179"
      ]
     },
     "execution_count": 118,
     "metadata": {},
     "output_type": "execute_result"
    }
   ],
   "source": [
    "chi_table = st.chi2.ppf(1-alpha, df)\n",
    "chi_table"
   ]
  },
  {
   "cell_type": "code",
   "execution_count": 119,
   "metadata": {},
   "outputs": [
    {
     "name": "stdout",
     "output_type": "stream",
     "text": [
      "Ha is right\n"
     ]
    }
   ],
   "source": [
    "if(chi_table<chi_cal):\n",
    "    print('Ha is right')  # Ha is right means there is an association between gender and music preference.  \n",
    "else:\n",
    "    print('H0 is right')   "
   ]
  }
 ],
 "metadata": {
  "kernelspec": {
   "display_name": "base",
   "language": "python",
   "name": "python3"
  },
  "language_info": {
   "codemirror_mode": {
    "name": "ipython",
    "version": 3
   },
   "file_extension": ".py",
   "mimetype": "text/x-python",
   "name": "python",
   "nbconvert_exporter": "python",
   "pygments_lexer": "ipython3",
   "version": "3.12.4"
  }
 },
 "nbformat": 4,
 "nbformat_minor": 2
}
