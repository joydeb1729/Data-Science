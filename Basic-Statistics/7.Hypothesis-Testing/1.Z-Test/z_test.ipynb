{
 "cells": [
  {
   "cell_type": "markdown",
   "metadata": {},
   "source": [
    "# Hypothesis Testing (Z-test)\n",
    "\n",
    "**Hypothesis testing** is a statistical method used to determine whether there is enough evidence in a sample to support or reject a claim about the population. The **Z-test** is used when the **population standard deviation** is known, and the **sample size is large** (typically $n \\geq 30$).\n",
    "\n",
    "---\n",
    "\n",
    "## Purpose of Z-test\n",
    "\n",
    "The Z-test helps determine whether the difference between the **sample mean** and the **population mean** is statistically significant or due to random chance. It is commonly used for:  \n",
    "- Testing whether the sample mean differs from the population mean.  \n",
    "- Comparing two independent sample means.  \n",
    "- Testing population proportions for large samples.\n",
    "\n",
    "---\n",
    "\n",
    "## Steps in Hypothesis Testing (Z-test)\n",
    "\n",
    "1. **Formulate Hypotheses**  \n",
    "   - **Null Hypothesis** $H_0$: There is no significant difference between the sample mean and population mean.  \n",
    "     $$H_0: \\mu = \\mu_0$$  \n",
    "   - **Alternative Hypothesis** $H_1$: There is a significant difference between the sample mean and population mean.  \n",
    "     $$H_1: \\mu \\neq \\mu_0$$  \n",
    "\n",
    "2. **Set the Significance Level**  \n",
    "   The significance level is denoted by $\\alpha$ and represents the probability of rejecting the null hypothesis when it is true. A typical choice is $\\alpha = 0.05$.  \n",
    "\n",
    "3. **Calculate the Z-statistic**  \n",
    "   The Z-statistic measures how far the sample mean is from the population mean in terms of standard errors:  \n",
    "   $$Z = \\frac{\\bar{X} - \\mu_0}{\\sigma / \\sqrt{n}}$$  \n",
    "   Where:  \n",
    "   - $\\bar{X}$ is the sample mean  \n",
    "   - $\\mu_0$ is the population mean under the null hypothesis  \n",
    "   - $\\sigma$ is the population standard deviation  \n",
    "   - $n$ is the sample size  \n",
    "\n",
    "4. **Determine the Critical Value or p-value**  \n",
    "   - Use a **Z-table** to find the critical value corresponding to the chosen $\\alpha$.  \n",
    "   - Alternatively, calculate the **p-value**, which is the probability of obtaining a result as extreme as the observed Z-statistic if $H_0$ is true.\n",
    "\n",
    "5. **Decision Rule**  \n",
    "   - If $|Z| > Z_{\\alpha/2}$ (critical value), reject $H_0$.  \n",
    "   - If the **p-value** is less than $\\alpha$, reject $H_0$.\n",
    "\n",
    "6. **Conclusion**  \n",
    "   - If $H_0$ is rejected, the sample provides sufficient evidence to support the alternative hypothesis.  \n",
    "   - If $H_0$ is not rejected, there is insufficient evidence to support the alternative hypothesis.\n",
    "\n",
    "---\n",
    "\n",
    "## Example\n",
    "\n",
    "Suppose the average height of adults in a population is $\\mu_0 = 170$ cm with a known standard deviation $\\sigma = 5$ cm. A sample of $n = 50$ adults has an average height of $\\bar{X} = 172$ cm. Test at the 5% significance level ($\\alpha = 0.05$) whether the sample mean differs significantly from the population mean.\n",
    "\n",
    "1. **Hypotheses**:  \n",
    "   $$H_0: \\mu = 170 \\quad \\text{vs} \\quad H_1: \\mu \\neq 170$$  \n",
    "\n",
    "2. **Calculate Z-statistic**:  \n",
    "   $$Z = \\frac{172 - 170}{5 / \\sqrt{50}} = \\frac{2}{0.707} \\approx 2.83$$  \n",
    "\n",
    "3. **Determine Critical Value**:  \n",
    "   - At $\\alpha = 0.05$, the critical value from the Z-table is $Z_{0.025} = 1.96$.  \n",
    "\n",
    "4. **Decision**:  \n",
    "   - Since $|2.83| > 1.96$, reject $H_0$.  \n",
    "\n",
    "5. **Conclusion**:  \n",
    "   - The sample mean is significantly different from the population mean at the 5% significance level.\n",
    "\n",
    "---"
   ]
  },
  {
   "cell_type": "markdown",
   "metadata": {},
   "source": [
    "## Question 1:\n",
    "\n",
    "**Scenario:**  \n",
    "A teacher claims that the mean score of the students in his class is greater than 82, with a standard deviation of 20. A sample of 81 students was selected, with a mean score of 90. Test the teacher's claim at a 5% level of significance.\n",
    "\n",
    "---\n",
    "\n",
    "### Step 1: Set the Hypotheses  \n",
    "- **Null Hypothesis $H_0$**: The mean score of the students is 82 or less.  \n",
    "  $H_0: \\mu \\leq 82$\n",
    "\n",
    "- **Alternative Hypothesis $H_1$**: The mean score of the students is greater than 82.  \n",
    "  $H_1: \\mu > 82$\n",
    "\n",
    "This will be a **one-tailed test** since the teacher claims the mean score is greater than 82.\n",
    "\n",
    "---\n",
    "\n",
    "### Step 2: Calculate the Test Statistic  \n",
    "Since the **population standard deviation $\\sigma$** is known, we use the **z-test** for a single sample.\n",
    "\n",
    "The formula for the **z-statistic** is:\n",
    "\n",
    "$$\n",
    "z = \\frac{\\bar{X} - \\mu_0}{\\frac{\\sigma}{\\sqrt{n}}}\n",
    "$$\n",
    "\n",
    "Where:  \n",
    "- $\\bar{X} = 90$: Sample mean  \n",
    "- $\\mu_0 = 82$: Claimed population mean  \n",
    "- $\\sigma = 20$: Population standard deviation  \n",
    "- $n = 81$: Sample size  \n",
    "\n",
    "Now, plug in the values:\n",
    "\n",
    "$$\n",
    "z = \\frac{90 - 82}{\\frac{20}{\\sqrt{81}}}  \n",
    "= \\frac{8}{\\frac{20}{9}}  \n",
    "= \\frac{8}{2.22} \\approx 3.6\n",
    "$$\n",
    "\n",
    "---\n",
    "\n",
    "### Step 3: Determine the Critical Value  \n",
    "For a **one-tailed z-test** at a **5% level of significance** ($\\alpha = 0.05$), the critical value is:\n",
    "\n",
    "$$\n",
    "z_{\\alpha} = 1.645\n",
    "$$\n",
    "\n",
    "---\n",
    "\n",
    "### Step 4: Conclusion  \n",
    "- **Compare the z-statistic**: $z = 3.6$  \n",
    "- **Critical value**: $z_{\\alpha} = 1.645$\n",
    "\n",
    "Since $z = 3.6$ is greater than the critical value of $1.645$, we **reject the null hypothesis**.\n",
    "\n",
    "---\n",
    "\n",
    "### Step 5: Final Conclusion  \n",
    "At the 5% significance level, there is sufficient evidence to support the teacher's claim that the mean score of the students is greater than 82.\n",
    "\n",
    "---"
   ]
  },
  {
   "cell_type": "code",
   "execution_count": 1,
   "metadata": {},
   "outputs": [],
   "source": [
    "import scipy.stats as st\n",
    "import numpy as np"
   ]
  },
  {
   "cell_type": "code",
   "execution_count": 2,
   "metadata": {},
   "outputs": [],
   "source": [
    "# Given\n",
    "sample_mean = 90\n",
    "sample_size = 81\n",
    "pop_mean = 82\n",
    "std = 20\n",
    "\n",
    "# Let\n",
    "alpha = 0.05"
   ]
  },
  {
   "cell_type": "code",
   "execution_count": 3,
   "metadata": {},
   "outputs": [
    {
     "data": {
      "text/plain": [
       "3.5999999999999996"
      ]
     },
     "execution_count": 3,
     "metadata": {},
     "output_type": "execute_result"
    }
   ],
   "source": [
    "# Calculating Z-Statistic\n",
    "z_cal = (sample_mean - pop_mean)/(std/np.sqrt(sample_size))\n",
    "z_cal\n"
   ]
  },
  {
   "cell_type": "code",
   "execution_count": 4,
   "metadata": {},
   "outputs": [
    {
     "data": {
      "text/plain": [
       "1.6448536269514722"
      ]
     },
     "execution_count": 4,
     "metadata": {},
     "output_type": "execute_result"
    }
   ],
   "source": [
    "# Z-Table value\n",
    "z_table = st.norm.ppf(1-alpha)\n",
    "z_table"
   ]
  },
  {
   "cell_type": "code",
   "execution_count": 5,
   "metadata": {},
   "outputs": [
    {
     "name": "stdout",
     "output_type": "stream",
     "text": [
      "Ha is right\n"
     ]
    }
   ],
   "source": [
    "if(z_table<z_cal):\n",
    "    print('Ha is right')  # Ha means teacher is right\n",
    "else:\n",
    "    print('H0 is right')"
   ]
  },
  {
   "cell_type": "markdown",
   "metadata": {},
   "source": [
    "## Question 2:\n",
    "\n",
    "**Scenario:**  \n",
    "Imagine you work for an e-commerce company, and your team is responsible for analyzing customer purchase data. You want to determine whether a new website design has led to a significant increase in the average purchase amount compared to the old design.\n",
    "\n",
    "---\n",
    "\n",
    "### Step 1: Set the Hypotheses  \n",
    "- **Null Hypothesis $H_0$**: There is no increase in the average purchase amount with the new design.  \n",
    "  $H_0: \\mu_{\\text{new}} = \\mu_{\\text{old}}$\n",
    "\n",
    "- **Alternative Hypothesis $H_1$**: The new design has led to a significant increase in the average purchase amount.  \n",
    "  $H_1: \\mu_{\\text{new}} > \\mu_{\\text{old}}$\n",
    "\n",
    "This will be a **one-tailed test** since we are testing for an increase in the average purchase amount.\n",
    "\n",
    "---\n",
    "\n",
    "### Step 2: Calculate the Sample Statistics  \n",
    "- **Old design data (n = 30):**  \n",
    "  $[45.2, 42.8, 38.9, 43.5, 41.0, 44.6, 40.5, 42.7, 39.8, 41.4, 44.3, 39.7, 42.1, 40.6, 43.0, 42.2, 41.5, 39.6, 44.0, 41.3, 38.7, 43.9, 42.8, 43.7, 41.3, 40.9, 41.9, 43.6, 42.5, 41.6]$\n",
    "\n",
    "  - Mean $ \\bar{X}_{\\text{old}} = 42.1$  \n",
    "  - Standard deviation $s_{\\text{old}} = 1.9$\n",
    "\n",
    "- **New design data (n = 30):**  \n",
    "  $[48.5, 49.1, 50.2, 47.8, 48.7, 49.9, 48.0, 50.5, 48.9, 49.6, 48.2, 48.9, 49.7, 50.3, 49.4, 50.1, 48.6, 48.3, 49.0, 50.0, 48.4, 49.3, 49.5, 48.8, 50.6, 50.4, 48.1, 49.2, 50.7, 50.8]$\n",
    "\n",
    "  - Mean $ \\bar{X}_{\\text{new}} = 49.2$  \n",
    "  - Standard deviation $s_{\\text{new}} = 1.6$\n",
    "\n",
    "---\n",
    "\n",
    "### Step 3: Calculate the Test Statistic  \n",
    "Since the **population standard deviation $\\sigma$** is known, we use the **z-test** for two independent samples.\n",
    "\n",
    "The formula for the z-statistic is:\n",
    "\n",
    "$$\n",
    "z = \\frac{\\bar{X}_{\\text{new}} - \\bar{X}_{\\text{old}}}{\\sigma \\sqrt{\\frac{1}{n_{\\text{new}}} + \\frac{1}{n_{\\text{old}}}}}\n",
    "$$\n",
    "\n",
    "Where:  \n",
    "- $\\bar{X}_{\\text{new}} = 49.2$  \n",
    "- $\\bar{X}_{\\text{old}} = 42.1$  \n",
    "- $\\sigma = 2.5$  \n",
    "- $n_{\\text{new}} = n_{\\text{old}} = 30$\n",
    "\n",
    "Now, plug in the values:\n",
    "\n",
    "$$\n",
    "z = \\frac{49.2 - 42.1}{2.5 \\sqrt{\\frac{1}{30} + \\frac{1}{30}}}\n",
    "= \\frac{7.1}{2.5 \\sqrt{0.0667}}\n",
    "= \\frac{7.1}{2.5 \\times 0.2582}\n",
    "= \\frac{7.1}{0.6455} \\approx 11.0\n",
    "$$\n",
    "\n",
    "---\n",
    "\n",
    "### Step 4: Determine the Critical Value  \n",
    "For a **one-tailed z-test** at a **5% level of significance** ($\\alpha = 0.05$), the critical value is:\n",
    "\n",
    "$$\n",
    "z_{\\alpha} = 1.645\n",
    "$$\n",
    "\n",
    "---\n",
    "\n",
    "### Step 5: Conclusion  \n",
    "- **Compare the z-statistic**: $z = 11.0$  \n",
    "- **Critical value**: $z_{\\alpha} = 1.645$\n",
    "\n",
    "Since $z = 11.0$ is greater than the critical value of $1.645$, we **reject the null hypothesis**.\n",
    "\n",
    "---\n",
    "\n",
    "### Step 6: Final Conclusion  \n",
    "At the 5% significance level, there is sufficient evidence to conclude that the new website design has led to a significant increase in the average purchase amount compared to the old design.\n",
    "\n",
    "---"
   ]
  },
  {
   "cell_type": "code",
   "execution_count": 6,
   "metadata": {},
   "outputs": [],
   "source": [
    "# Given\n",
    "\n",
    "old_design_data = np.array([45.2, 42.8, 38.9, 43.5, 41.0, 44.6, 40.5, 42.7, 39.8, 41.4, 44.3, 39.7, \n",
    " 42.1, 40.6, 43.0, 42.2, 41.5, 39.6, 44.0, 41.3, 38.7, 43.9, 42.8, 43.7, \n",
    " 41.3, 40.9, 41.9, 43.6, 42.5, 41.6])\n",
    "\n",
    "new_design_data = np.array([48.5, 49.1, 50.2, 47.8, 48.7, 49.9, 48.0, 50.5, 48.9, 49.6, 48.2, 48.9, \n",
    " 49.7, 50.3, 49.4, 50.1, 48.6, 48.3, 49.0, 50.0, 48.4, 49.3, 49.5, 48.8, \n",
    " 50.6, 50.4, 48.1, 49.2, 50.7, 50.8])\n",
    "\n",
    "std = 2.5\n",
    "\n",
    "# Let\n",
    "alpha = 0.05"
   ]
  },
  {
   "cell_type": "code",
   "execution_count": 7,
   "metadata": {},
   "outputs": [
    {
     "data": {
      "text/plain": [
       "(41.986666666666665, 49.316666666666656, 30)"
      ]
     },
     "execution_count": 7,
     "metadata": {},
     "output_type": "execute_result"
    }
   ],
   "source": [
    "new_mean = np.mean(new_design_data)\n",
    "old_mean = np.mean(old_design_data)\n",
    "sample_size = len(new_design_data)\n",
    "\n",
    "old_mean, new_mean, sample_size"
   ]
  },
  {
   "cell_type": "code",
   "execution_count": 8,
   "metadata": {},
   "outputs": [
    {
     "data": {
      "text/plain": [
       "11.355587171080135"
      ]
     },
     "execution_count": 8,
     "metadata": {},
     "output_type": "execute_result"
    }
   ],
   "source": [
    "# Calculating Z-Statistic (assuming past and present mean of population is same)\n",
    "z_cal = (new_mean - old_mean)/(std*(np.sqrt(1/sample_size + 1/sample_size)))\n",
    "z_cal"
   ]
  },
  {
   "cell_type": "code",
   "execution_count": 9,
   "metadata": {},
   "outputs": [
    {
     "data": {
      "text/plain": [
       "1.6448536269514722"
      ]
     },
     "execution_count": 9,
     "metadata": {},
     "output_type": "execute_result"
    }
   ],
   "source": [
    "# Z-Table Value\n",
    "z_table = st.norm.ppf(1-alpha)\n",
    "z_table"
   ]
  },
  {
   "cell_type": "code",
   "execution_count": 10,
   "metadata": {},
   "outputs": [
    {
     "name": "stdout",
     "output_type": "stream",
     "text": [
      "Ha is right\n"
     ]
    }
   ],
   "source": [
    "if(z_table<z_cal):\n",
    "    print('Ha is right')  # Ha means new website is better that old website\n",
    "else:\n",
    "    print('H0 is right')"
   ]
  }
 ],
 "metadata": {
  "kernelspec": {
   "display_name": "base",
   "language": "python",
   "name": "python3"
  },
  "language_info": {
   "codemirror_mode": {
    "name": "ipython",
    "version": 3
   },
   "file_extension": ".py",
   "mimetype": "text/x-python",
   "name": "python",
   "nbconvert_exporter": "python",
   "pygments_lexer": "ipython3",
   "version": "3.12.4"
  }
 },
 "nbformat": 4,
 "nbformat_minor": 2
}
