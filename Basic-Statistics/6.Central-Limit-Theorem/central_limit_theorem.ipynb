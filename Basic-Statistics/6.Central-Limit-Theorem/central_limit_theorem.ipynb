{
 "cells": [
  {
   "cell_type": "markdown",
   "metadata": {},
   "source": [
    "# Central Limit Theorem (CLT)\n",
    "\n",
    "The **Central Limit Theorem (CLT)** is a fundamental concept in probability and statistics. It states that the **sampling distribution** of the **sample mean** becomes approximately **normal** as the sample size increases, regardless of the original distribution of the population. This powerful theorem provides the theoretical foundation for many statistical methods, including hypothesis testing and the construction of confidence intervals.\n",
    "\n",
    "---\n",
    "\n",
    "## Key Concepts of CLT\n",
    "\n",
    "1. **Sampling Distribution of the Mean**  \n",
    "   - If you take multiple random samples of size $n$ from a population and compute their means, those sample means will form their own distribution. This is called the **sampling distribution of the mean**.  \n",
    "\n",
    "2. **Convergence to Normality**  \n",
    "   - As the sample size increases, the shape of the sampling distribution of the mean becomes increasingly close to a **normal distribution**, even if the original population is not normally distributed.  \n",
    "\n",
    "3. **Independence of Population Distribution**  \n",
    "   - The CLT works even if the population data follows a skewed, uniform, or any non-normal distribution. However, the sample size needs to be sufficiently large for the theorem to hold accurately.\n",
    "\n",
    "---\n",
    "\n",
    "## Why is the CLT Important?\n",
    "\n",
    "- **Practical Applicability**:  \n",
    "  Many real-world problems involve data that is not normally distributed. The CLT enables us to apply statistical methods that assume normality, like calculating probabilities, testing hypotheses, and constructing confidence intervals.  \n",
    "\n",
    "- **Standard Error of the Mean**:  \n",
    "  As the sample size increases, the variability of the sample mean decreases, meaning the sample mean becomes a more reliable estimator of the population mean.  \n",
    "\n",
    "- **Foundation for Inferential Statistics**:  \n",
    "  The CLT allows us to make inferences about a population based on a sample. Since the sample mean distribution is approximately normal for large $n$, statistical tools like the **z-test** and **t-test** become applicable.\n",
    "\n",
    "---\n",
    "\n",
    "## Practical Examples\n",
    "\n",
    "1. **Polling Data**  \n",
    "   - In elections, pollsters collect responses from a sample of voters. Even if individual voter opinions are not normally distributed, the average opinion from many samples will follow a normal distribution.\n",
    "\n",
    "2. **Quality Control**  \n",
    "   - Manufacturers use random samples from production batches to monitor product quality. The average defect rate from these samples can be analyzed using statistical methods based on the CLT.\n",
    "\n",
    "3. **Stock Market Analysis**  \n",
    "   - In finance, analysts often assume that the average returns from stock prices over a period follow a normal distribution, allowing them to apply statistical models effectively.\n",
    "\n",
    "---\n",
    "\n",
    "## Conditions for CLT\n",
    "\n",
    "1. **Sample Size**:  \n",
    "   - Larger sample sizes result in a better approximation to the normal distribution. A common rule of thumb is that $n \\geq 30$ is sufficient for the CLT to apply, although smaller sample sizes may work if the population is close to normal.\n",
    "\n",
    "2. **Independence**:  \n",
    "   - The observations within each sample must be independent. That is, the selection of one data point should not affect the selection of another.\n",
    "\n",
    "3. **Identical Distribution**:  \n",
    "   - The data points should be drawn from the same distribution (i.e., they are identically distributed). This ensures the mean is meaningful and comparable across samples.\n",
    "\n",
    "---\n",
    "\n",
    "The CLT is one of the most powerful tools in statistics, providing a bridge between raw data and inferential methods. It helps statisticians and researchers analyze data more effectively, even when working with complex or unknown population distributions.\n"
   ]
  },
  {
   "cell_type": "code",
   "execution_count": 221,
   "metadata": {},
   "outputs": [],
   "source": [
    "import numpy as np\n",
    "import pandas as pd\n",
    "import seaborn as sns\n",
    "import matplotlib.pyplot as plt"
   ]
  },
  {
   "cell_type": "code",
   "execution_count": 222,
   "metadata": {},
   "outputs": [
    {
     "data": {
      "text/plain": [
       "40"
      ]
     },
     "execution_count": 222,
     "metadata": {},
     "output_type": "execute_result"
    }
   ],
   "source": [
    "np.random.randint(1,100)"
   ]
  },
  {
   "cell_type": "code",
   "execution_count": 223,
   "metadata": {},
   "outputs": [
    {
     "data": {
      "text/plain": [
       "10000"
      ]
     },
     "execution_count": 223,
     "metadata": {},
     "output_type": "execute_result"
    }
   ],
   "source": [
    "# Creating random dataset\n",
    "population_data = [np.random.randint(1, 100) for i in range(10000)]\n",
    "\n",
    "len(population_data)"
   ]
  },
  {
   "cell_type": "code",
   "execution_count": 224,
   "metadata": {},
   "outputs": [
    {
     "data": {
      "text/html": [
       "<div>\n",
       "<style scoped>\n",
       "    .dataframe tbody tr th:only-of-type {\n",
       "        vertical-align: middle;\n",
       "    }\n",
       "\n",
       "    .dataframe tbody tr th {\n",
       "        vertical-align: top;\n",
       "    }\n",
       "\n",
       "    .dataframe thead th {\n",
       "        text-align: right;\n",
       "    }\n",
       "</style>\n",
       "<table border=\"1\" class=\"dataframe\">\n",
       "  <thead>\n",
       "    <tr style=\"text-align: right;\">\n",
       "      <th></th>\n",
       "      <th>pop_data</th>\n",
       "    </tr>\n",
       "  </thead>\n",
       "  <tbody>\n",
       "    <tr>\n",
       "      <th>0</th>\n",
       "      <td>40</td>\n",
       "    </tr>\n",
       "    <tr>\n",
       "      <th>1</th>\n",
       "      <td>58</td>\n",
       "    </tr>\n",
       "    <tr>\n",
       "      <th>2</th>\n",
       "      <td>39</td>\n",
       "    </tr>\n",
       "    <tr>\n",
       "      <th>3</th>\n",
       "      <td>13</td>\n",
       "    </tr>\n",
       "    <tr>\n",
       "      <th>4</th>\n",
       "      <td>42</td>\n",
       "    </tr>\n",
       "    <tr>\n",
       "      <th>...</th>\n",
       "      <td>...</td>\n",
       "    </tr>\n",
       "    <tr>\n",
       "      <th>9995</th>\n",
       "      <td>28</td>\n",
       "    </tr>\n",
       "    <tr>\n",
       "      <th>9996</th>\n",
       "      <td>95</td>\n",
       "    </tr>\n",
       "    <tr>\n",
       "      <th>9997</th>\n",
       "      <td>18</td>\n",
       "    </tr>\n",
       "    <tr>\n",
       "      <th>9998</th>\n",
       "      <td>90</td>\n",
       "    </tr>\n",
       "    <tr>\n",
       "      <th>9999</th>\n",
       "      <td>85</td>\n",
       "    </tr>\n",
       "  </tbody>\n",
       "</table>\n",
       "<p>10000 rows × 1 columns</p>\n",
       "</div>"
      ],
      "text/plain": [
       "      pop_data\n",
       "0           40\n",
       "1           58\n",
       "2           39\n",
       "3           13\n",
       "4           42\n",
       "...        ...\n",
       "9995        28\n",
       "9996        95\n",
       "9997        18\n",
       "9998        90\n",
       "9999        85\n",
       "\n",
       "[10000 rows x 1 columns]"
      ]
     },
     "execution_count": 224,
     "metadata": {},
     "output_type": "execute_result"
    }
   ],
   "source": [
    "pop_table = pd.DataFrame({'pop_data': population_data})\n",
    "\n",
    "pop_table"
   ]
  },
  {
   "cell_type": "code",
   "execution_count": 225,
   "metadata": {},
   "outputs": [
    {
     "data": {
      "image/png": "[encoded data removed]",
      "text/plain": [
       "<Figure size 1000x400 with 2 Axes>"
      ]
     },
     "metadata": {},
     "output_type": "display_data"
    }
   ],
   "source": [
    "fig, axes = plt.subplots(1, 2, figsize=(10,4))\n",
    "\n",
    "sns.histplot(x='pop_data', data=pop_table, ax=axes[0])\n",
    "axes[0].set_title('Histogram')\n",
    "\n",
    "sns.kdeplot(x='pop_data', data=pop_table, ax=axes[1])\n",
    "axes[1].set_title('KDE Plot')\n",
    "\n",
    "plt.tight_layout()\n",
    "plt.show()"
   ]
  },
  {
   "cell_type": "code",
   "execution_count": 226,
   "metadata": {},
   "outputs": [
    {
     "data": {
      "text/plain": [
       "(49.9102, 50.0, 81)"
      ]
     },
     "execution_count": 226,
     "metadata": {},
     "output_type": "execute_result"
    }
   ],
   "source": [
    "pop_table['pop_data'].mean(), pop_table['pop_data'].median(), pop_table['pop_data'].mode()[0]"
   ]
  },
  {
   "cell_type": "markdown",
   "metadata": {},
   "source": [
    "**mean = median != mode**\n",
    "- Its not normal distribution"
   ]
  },
  {
   "cell_type": "markdown",
   "metadata": {},
   "source": [
    "## Lets Make it normal distributio"
   ]
  },
  {
   "cell_type": "code",
   "execution_count": 227,
   "metadata": {},
   "outputs": [
    {
     "data": {
      "text/plain": [
       "13"
      ]
     },
     "execution_count": 227,
     "metadata": {},
     "output_type": "execute_result"
    }
   ],
   "source": [
    "np.random.choice(pop_table['pop_data'])"
   ]
  },
  {
   "cell_type": "code",
   "execution_count": 228,
   "metadata": {},
   "outputs": [],
   "source": [
    "sample_mean = []\n",
    "\n",
    "for sample in range(50):\n",
    "    sample_data = []\n",
    "    for data in range(500):     # taking [sample>30]  &  [sample < (total data * 10%) which is 1000] \n",
    "        sample_data.append(np.random.choice(pop_table['pop_data']))\n",
    "    sample_mean.append(np.mean(sample_data))"
   ]
  },
  {
   "cell_type": "code",
   "execution_count": 229,
   "metadata": {},
   "outputs": [
    {
     "data": {
      "text/html": [
       "<div>\n",
       "<style scoped>\n",
       "    .dataframe tbody tr th:only-of-type {\n",
       "        vertical-align: middle;\n",
       "    }\n",
       "\n",
       "    .dataframe tbody tr th {\n",
       "        vertical-align: top;\n",
       "    }\n",
       "\n",
       "    .dataframe thead th {\n",
       "        text-align: right;\n",
       "    }\n",
       "</style>\n",
       "<table border=\"1\" class=\"dataframe\">\n",
       "  <thead>\n",
       "    <tr style=\"text-align: right;\">\n",
       "      <th></th>\n",
       "      <th>sample_mean</th>\n",
       "    </tr>\n",
       "  </thead>\n",
       "  <tbody>\n",
       "    <tr>\n",
       "      <th>0</th>\n",
       "      <td>50.152</td>\n",
       "    </tr>\n",
       "    <tr>\n",
       "      <th>1</th>\n",
       "      <td>49.524</td>\n",
       "    </tr>\n",
       "    <tr>\n",
       "      <th>2</th>\n",
       "      <td>48.664</td>\n",
       "    </tr>\n",
       "    <tr>\n",
       "      <th>3</th>\n",
       "      <td>50.862</td>\n",
       "    </tr>\n",
       "    <tr>\n",
       "      <th>4</th>\n",
       "      <td>47.776</td>\n",
       "    </tr>\n",
       "    <tr>\n",
       "      <th>5</th>\n",
       "      <td>49.764</td>\n",
       "    </tr>\n",
       "    <tr>\n",
       "      <th>6</th>\n",
       "      <td>49.646</td>\n",
       "    </tr>\n",
       "    <tr>\n",
       "      <th>7</th>\n",
       "      <td>51.040</td>\n",
       "    </tr>\n",
       "    <tr>\n",
       "      <th>8</th>\n",
       "      <td>51.330</td>\n",
       "    </tr>\n",
       "    <tr>\n",
       "      <th>9</th>\n",
       "      <td>49.360</td>\n",
       "    </tr>\n",
       "  </tbody>\n",
       "</table>\n",
       "</div>"
      ],
      "text/plain": [
       "   sample_mean\n",
       "0       50.152\n",
       "1       49.524\n",
       "2       48.664\n",
       "3       50.862\n",
       "4       47.776\n",
       "5       49.764\n",
       "6       49.646\n",
       "7       51.040\n",
       "8       51.330\n",
       "9       49.360"
      ]
     },
     "execution_count": 229,
     "metadata": {},
     "output_type": "execute_result"
    }
   ],
   "source": [
    "mean_table = pd.DataFrame({'sample_mean':sample_mean})\n",
    "\n",
    "mean_table.head(10)"
   ]
  },
  {
   "cell_type": "code",
   "execution_count": 230,
   "metadata": {},
   "outputs": [
    {
     "data": {
      "image/png": "[encoded data removed]",
      "text/plain": [
       "<Figure size 1000x400 with 2 Axes>"
      ]
     },
     "metadata": {},
     "output_type": "display_data"
    }
   ],
   "source": [
    "fig, axes = plt.subplots(1, 2, figsize=(10, 4))\n",
    "\n",
    "sns.histplot(x='sample_mean', data=mean_table, ax=axes[0])\n",
    "axes[0].set_title('Histogram')\n",
    "\n",
    "sns.kdeplot(x='sample_mean', data=mean_table, ax=axes[1])\n",
    "axes[1].set_title('KDE Plot')\n",
    "\n",
    "plt.tight_layout()\n",
    "plt.show()"
   ]
  },
  {
   "cell_type": "code",
   "execution_count": 231,
   "metadata": {},
   "outputs": [
    {
     "data": {
      "text/plain": [
       "(49.706680000000006, 49.749, 47.776)"
      ]
     },
     "execution_count": 231,
     "metadata": {},
     "output_type": "execute_result"
    }
   ],
   "source": [
    "mean_table['sample_mean'].mean(), mean_table['sample_mean'].median(), mean_table['sample_mean'].mode()[0]"
   ]
  },
  {
   "cell_type": "markdown",
   "metadata": {},
   "source": [
    "here almost *Mean = Median = Mode*\n",
    "- Which indicate normal distribution"
   ]
  },
  {
   "cell_type": "code",
   "execution_count": 232,
   "metadata": {},
   "outputs": [
    {
     "data": {
      "text/plain": [
       "(49.9102, 49.706680000000006)"
      ]
     },
     "execution_count": 232,
     "metadata": {},
     "output_type": "execute_result"
    }
   ],
   "source": [
    "pop_table['pop_data'].mean(), mean_table['sample_mean'].mean()"
   ]
  },
  {
   "cell_type": "markdown",
   "metadata": {},
   "source": [
    "Here the Mean of population data and Mean of sample_mean data is almost same, which satisfies the central limit theorem\n",
    "\n",
    "- Mean of Population Data = Mean of Mean of Sample data\n",
    "- Mean(pop_data) = Mean(sample_mean)"
   ]
  }
 ],
 "metadata": {
  "kernelspec": {
   "display_name": "base",
   "language": "python",
   "name": "python3"
  },
  "language_info": {
   "codemirror_mode": {
    "name": "ipython",
    "version": 3
   },
   "file_extension": ".py",
   "mimetype": "text/x-python",
   "name": "python",
   "nbconvert_exporter": "python",
   "pygments_lexer": "ipython3",
   "version": "3.12.4"
  }
 },
 "nbformat": 4,
 "nbformat_minor": 2
}
