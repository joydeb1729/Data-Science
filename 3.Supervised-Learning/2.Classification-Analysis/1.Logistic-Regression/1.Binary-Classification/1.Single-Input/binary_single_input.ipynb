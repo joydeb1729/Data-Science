{
 "cells": [
  {
   "cell_type": "markdown",
   "metadata": {},
   "source": [
    "# **Logistic Regression (Binary Classification - Single Input)**\n",
    "\n",
    "Logistic regression is widely used for binary classification tasks. In this example, we apply logistic regression to classify whether a customer has made a purchase based on their age.\n",
    "\n",
    "---\n",
    "\n",
    "## **Step-by-Step Explanation**\n",
    "\n",
    "### **1. Data Splitting**\n",
    "We split the dataset into training and testing sets using the `train_test_split` function:\n",
    "- `x_train`, `y_train`: Used to train the logistic regression model.\n",
    "- `x_test`, `y_test`: Used to evaluate the model's performance.\n",
    "\n",
    "### **2. Model Training**\n",
    "We create an instance of `LogisticRegression` and fit it to the training data:\n",
    "- The model learns the relationship between the input feature (`Age`) and the target variable (`Purchased`).\n",
    "- The fitting process involves optimizing the weights ($m$) and bias ($b$) to minimize the cost function (log-loss).\n",
    "\n",
    "### **3. Model Evaluation**\n",
    "Using `lr.score(x_test, y_test)`, the model's accuracy on the test set is calculated:\n",
    "- Accuracy is the ratio of correctly predicted observations to the total observations.\n",
    "\n",
    "### **4. Visualization**\n",
    "The relationship between the input feature (`Age`) and the predicted probability of purchase is visualized:\n",
    "- A scatter plot shows the original data points (`Age` vs. `Purchased`).\n",
    "- A line plot overlays the logistic regression model's predictions (red curve), representing the sigmoid function's output.\n",
    "\n",
    "---\n",
    "\n",
    "## **Understanding the Logistic Regression Output**\n",
    "\n",
    "1. **Sigmoid Function Transformation**:\n",
    "   The linear regression equation is:\n",
    "   $$ z = m \\cdot \\text{Age} + b $$\n",
    "   The sigmoid function maps $z$ to a probability between 0 and 1:\n",
    "   $$ \\sigma(z) = \\frac{1}{1 + e^{-z}} $$\n",
    "\n",
    "2. **Classification**:\n",
    "   - If $\\sigma(z) \\geq 0.5$, predict `Purchased = 1`.\n",
    "   - If $\\sigma(z) < 0.5`, predict `Purchased = 0`.\n",
    "\n",
    "3. **Model Prediction**:\n",
    "   The model generates predictions for the training data (`x`) and draws a decision boundary (red line).\n",
    "\n",
    "---\n",
    "\n",
    "## **Visualization Insights**\n",
    "\n",
    "- **Scatter Plot**:\n",
    "  Represents the actual data points where:\n",
    "  - `x-axis`: Age of customers.\n",
    "  - `y-axis`: Purchase status (1 for purchased, 0 for not purchased).\n",
    "\n",
    "- **Decision Boundary**:\n",
    "  The red line shows the model's predicted probability curve for purchase based on age. This curve reflects the sigmoid function.\n",
    "\n",
    "By visualizing the scatter plot alongside the logistic regression curve, we can understand how the model separates the two classes (`Purchased` vs. `Not Purchased`) based on age.\n",
    "\n",
    "---\n",
    "\n",
    "## **Conclusion**\n",
    "Logistic regression efficiently handles binary classification tasks. By visualizing the sigmoid curve, we can interpret the model's behavior and decision-making process, providing insights into the relationship between features and predicted probabilities.\n"
   ]
  },
  {
   "cell_type": "code",
   "execution_count": 16,
   "metadata": {},
   "outputs": [],
   "source": [
    "import pandas as pd\n",
    "import matplotlib.pyplot as plt\n",
    "import seaborn as sns\n",
    "import numpy as np"
   ]
  },
  {
   "cell_type": "code",
   "execution_count": 17,
   "metadata": {},
   "outputs": [
    {
     "data": {
      "text/html": [
       "<div>\n",
       "<style scoped>\n",
       "    .dataframe tbody tr th:only-of-type {\n",
       "        vertical-align: middle;\n",
       "    }\n",
       "\n",
       "    .dataframe tbody tr th {\n",
       "        vertical-align: top;\n",
       "    }\n",
       "\n",
       "    .dataframe thead th {\n",
       "        text-align: right;\n",
       "    }\n",
       "</style>\n",
       "<table border=\"1\" class=\"dataframe\">\n",
       "  <thead>\n",
       "    <tr style=\"text-align: right;\">\n",
       "      <th></th>\n",
       "      <th>User ID</th>\n",
       "      <th>Gender</th>\n",
       "      <th>Age</th>\n",
       "      <th>EstimatedSalary</th>\n",
       "      <th>Purchased</th>\n",
       "    </tr>\n",
       "  </thead>\n",
       "  <tbody>\n",
       "    <tr>\n",
       "      <th>0</th>\n",
       "      <td>15624510</td>\n",
       "      <td>Male</td>\n",
       "      <td>19</td>\n",
       "      <td>19000</td>\n",
       "      <td>0</td>\n",
       "    </tr>\n",
       "    <tr>\n",
       "      <th>1</th>\n",
       "      <td>15810944</td>\n",
       "      <td>Male</td>\n",
       "      <td>35</td>\n",
       "      <td>20000</td>\n",
       "      <td>0</td>\n",
       "    </tr>\n",
       "    <tr>\n",
       "      <th>2</th>\n",
       "      <td>15668575</td>\n",
       "      <td>Female</td>\n",
       "      <td>26</td>\n",
       "      <td>43000</td>\n",
       "      <td>0</td>\n",
       "    </tr>\n",
       "    <tr>\n",
       "      <th>3</th>\n",
       "      <td>15603246</td>\n",
       "      <td>Female</td>\n",
       "      <td>27</td>\n",
       "      <td>57000</td>\n",
       "      <td>0</td>\n",
       "    </tr>\n",
       "    <tr>\n",
       "      <th>4</th>\n",
       "      <td>15804002</td>\n",
       "      <td>Male</td>\n",
       "      <td>19</td>\n",
       "      <td>76000</td>\n",
       "      <td>0</td>\n",
       "    </tr>\n",
       "  </tbody>\n",
       "</table>\n",
       "</div>"
      ],
      "text/plain": [
       "    User ID  Gender  Age  EstimatedSalary  Purchased\n",
       "0  15624510    Male   19            19000          0\n",
       "1  15810944    Male   35            20000          0\n",
       "2  15668575  Female   26            43000          0\n",
       "3  15603246  Female   27            57000          0\n",
       "4  15804002    Male   19            76000          0"
      ]
     },
     "execution_count": 17,
     "metadata": {},
     "output_type": "execute_result"
    }
   ],
   "source": [
    "ads_data = pd.read_csv('Social_Network_Ads.csv')\n",
    "ads_data.head()"
   ]
  },
  {
   "cell_type": "markdown",
   "metadata": {},
   "source": [
    "### Lets work with Single input(`Age`) and output(`Purchased`)"
   ]
  },
  {
   "cell_type": "code",
   "execution_count": 18,
   "metadata": {},
   "outputs": [
    {
     "data": {
      "text/html": [
       "<div>\n",
       "<style scoped>\n",
       "    .dataframe tbody tr th:only-of-type {\n",
       "        vertical-align: middle;\n",
       "    }\n",
       "\n",
       "    .dataframe tbody tr th {\n",
       "        vertical-align: top;\n",
       "    }\n",
       "\n",
       "    .dataframe thead th {\n",
       "        text-align: right;\n",
       "    }\n",
       "</style>\n",
       "<table border=\"1\" class=\"dataframe\">\n",
       "  <thead>\n",
       "    <tr style=\"text-align: right;\">\n",
       "      <th></th>\n",
       "      <th>Age</th>\n",
       "      <th>Purchased</th>\n",
       "    </tr>\n",
       "  </thead>\n",
       "  <tbody>\n",
       "    <tr>\n",
       "      <th>0</th>\n",
       "      <td>19</td>\n",
       "      <td>0</td>\n",
       "    </tr>\n",
       "    <tr>\n",
       "      <th>1</th>\n",
       "      <td>35</td>\n",
       "      <td>0</td>\n",
       "    </tr>\n",
       "    <tr>\n",
       "      <th>2</th>\n",
       "      <td>26</td>\n",
       "      <td>0</td>\n",
       "    </tr>\n",
       "  </tbody>\n",
       "</table>\n",
       "</div>"
      ],
      "text/plain": [
       "   Age  Purchased\n",
       "0   19          0\n",
       "1   35          0\n",
       "2   26          0"
      ]
     },
     "execution_count": 18,
     "metadata": {},
     "output_type": "execute_result"
    }
   ],
   "source": [
    "ads_data.drop(columns=['User ID', 'Gender', 'EstimatedSalary'], inplace=True)\n",
    "ads_data.head(3)"
   ]
  },
  {
   "cell_type": "code",
   "execution_count": 19,
   "metadata": {},
   "outputs": [
    {
     "data": {
      "image/png": "[encoded data removed]",
      "text/plain": [
       "<Figure size 500x300 with 1 Axes>"
      ]
     },
     "metadata": {},
     "output_type": "display_data"
    }
   ],
   "source": [
    "plt.figure(figsize=(5,3))\n",
    "sns.scatterplot(x= 'Age', y='Purchased', data=ads_data)\n",
    "plt.show()"
   ]
  },
  {
   "cell_type": "code",
   "execution_count": 20,
   "metadata": {},
   "outputs": [],
   "source": [
    "x= ads_data[['Age']]\n",
    "y = ads_data['Purchased']"
   ]
  },
  {
   "cell_type": "code",
   "execution_count": 21,
   "metadata": {},
   "outputs": [],
   "source": [
    "from sklearn.model_selection import train_test_split"
   ]
  },
  {
   "cell_type": "code",
   "execution_count": 23,
   "metadata": {},
   "outputs": [],
   "source": [
    "x_train, x_test, y_train, y_test = train_test_split(x, y, test_size=0.2, random_state=42)"
   ]
  },
  {
   "cell_type": "code",
   "execution_count": 24,
   "metadata": {},
   "outputs": [],
   "source": [
    "from sklearn.linear_model import LogisticRegression"
   ]
  },
  {
   "cell_type": "code",
   "execution_count": 25,
   "metadata": {},
   "outputs": [
    {
     "data": {
      "text/plain": [
       "0.9125"
      ]
     },
     "execution_count": 25,
     "metadata": {},
     "output_type": "execute_result"
    }
   ],
   "source": [
    "lr = LogisticRegression()\n",
    "lr.fit(x_train, y_train)\n",
    "\n",
    "lr.score(x_test,y_test)"
   ]
  },
  {
   "cell_type": "code",
   "execution_count": 26,
   "metadata": {},
   "outputs": [
    {
     "data": {
      "image/png": "[encoded data removed]",
      "text/plain": [
       "<Figure size 500x300 with 1 Axes>"
      ]
     },
     "metadata": {},
     "output_type": "display_data"
    }
   ],
   "source": [
    "plt.figure(figsize=(5,3))\n",
    "sns.scatterplot(x= 'Age', y='Purchased', data=ads_data)\n",
    "sns.lineplot(x='Age', y=lr.predict(x),data=ads_data, c='red')\n",
    "plt.show()"
   ]
  }
 ],
 "metadata": {
  "kernelspec": {
   "display_name": "base",
   "language": "python",
   "name": "python3"
  },
  "language_info": {
   "codemirror_mode": {
    "name": "ipython",
    "version": 3
   },
   "file_extension": ".py",
   "mimetype": "text/x-python",
   "name": "python",
   "nbconvert_exporter": "python",
   "pygments_lexer": "ipython3",
   "version": "3.12.4"
  }
 },
 "nbformat": 4,
 "nbformat_minor": 2
}
