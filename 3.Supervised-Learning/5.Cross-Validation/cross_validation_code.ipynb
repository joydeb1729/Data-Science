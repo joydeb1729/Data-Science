{
 "cells": [
  {
   "cell_type": "code",
   "execution_count": 111,
   "metadata": {},
   "outputs": [],
   "source": [
    "import pandas as pd\n",
    "import numpy as np\n",
    "import matplotlib.pyplot as plt\n",
    "import seaborn as sns\n",
    "\n",
    "from sklearn.linear_model import LinearRegression\n",
    "from sklearn.model_selection import LeaveOneOut, LeavePOut, KFold, StratifiedKFold, cross_val_score"
   ]
  },
  {
   "cell_type": "code",
   "execution_count": 112,
   "metadata": {},
   "outputs": [
    {
     "data": {
      "text/html": [
       "<div>\n",
       "<style scoped>\n",
       "    .dataframe tbody tr th:only-of-type {\n",
       "        vertical-align: middle;\n",
       "    }\n",
       "\n",
       "    .dataframe tbody tr th {\n",
       "        vertical-align: top;\n",
       "    }\n",
       "\n",
       "    .dataframe thead th {\n",
       "        text-align: right;\n",
       "    }\n",
       "</style>\n",
       "<table border=\"1\" class=\"dataframe\">\n",
       "  <thead>\n",
       "    <tr style=\"text-align: right;\">\n",
       "      <th></th>\n",
       "      <th>cgpa</th>\n",
       "      <th>package</th>\n",
       "    </tr>\n",
       "  </thead>\n",
       "  <tbody>\n",
       "    <tr>\n",
       "      <th>0</th>\n",
       "      <td>6.89</td>\n",
       "      <td>3.26</td>\n",
       "    </tr>\n",
       "    <tr>\n",
       "      <th>1</th>\n",
       "      <td>5.12</td>\n",
       "      <td>1.98</td>\n",
       "    </tr>\n",
       "    <tr>\n",
       "      <th>2</th>\n",
       "      <td>7.82</td>\n",
       "      <td>3.25</td>\n",
       "    </tr>\n",
       "  </tbody>\n",
       "</table>\n",
       "</div>"
      ],
      "text/plain": [
       "   cgpa  package\n",
       "0  6.89     3.26\n",
       "1  5.12     1.98\n",
       "2  7.82     3.25"
      ]
     },
     "execution_count": 112,
     "metadata": {},
     "output_type": "execute_result"
    }
   ],
   "source": [
    "placement_package_data = pd.read_csv('placement_package.csv')\n",
    "placement_package_data.head(3)"
   ]
  },
  {
   "cell_type": "code",
   "execution_count": 113,
   "metadata": {},
   "outputs": [
    {
     "data": {
      "text/plain": [
       "(200, 2)"
      ]
     },
     "execution_count": 113,
     "metadata": {},
     "output_type": "execute_result"
    }
   ],
   "source": [
    "placement_package_data.shape"
   ]
  },
  {
   "cell_type": "code",
   "execution_count": 114,
   "metadata": {},
   "outputs": [
    {
     "data": {
      "text/plain": [
       "cgpa       0\n",
       "package    0\n",
       "dtype: int64"
      ]
     },
     "execution_count": 114,
     "metadata": {},
     "output_type": "execute_result"
    }
   ],
   "source": [
    "placement_package_data.isnull().sum()"
   ]
  },
  {
   "cell_type": "code",
   "execution_count": 115,
   "metadata": {},
   "outputs": [],
   "source": [
    "x = placement_package_data[['cgpa']]\n",
    "y = placement_package_data['package']"
   ]
  },
  {
   "cell_type": "code",
   "execution_count": 116,
   "metadata": {},
   "outputs": [],
   "source": [
    "new_data = placement_package_data.head(10)"
   ]
  },
  {
   "cell_type": "code",
   "execution_count": 117,
   "metadata": {},
   "outputs": [
    {
     "data": {
      "text/html": [
       "<div>\n",
       "<style scoped>\n",
       "    .dataframe tbody tr th:only-of-type {\n",
       "        vertical-align: middle;\n",
       "    }\n",
       "\n",
       "    .dataframe tbody tr th {\n",
       "        vertical-align: top;\n",
       "    }\n",
       "\n",
       "    .dataframe thead th {\n",
       "        text-align: right;\n",
       "    }\n",
       "</style>\n",
       "<table border=\"1\" class=\"dataframe\">\n",
       "  <thead>\n",
       "    <tr style=\"text-align: right;\">\n",
       "      <th></th>\n",
       "      <th>cgpa</th>\n",
       "      <th>package</th>\n",
       "    </tr>\n",
       "  </thead>\n",
       "  <tbody>\n",
       "    <tr>\n",
       "      <th>0</th>\n",
       "      <td>6.89</td>\n",
       "      <td>3.26</td>\n",
       "    </tr>\n",
       "    <tr>\n",
       "      <th>1</th>\n",
       "      <td>5.12</td>\n",
       "      <td>1.98</td>\n",
       "    </tr>\n",
       "    <tr>\n",
       "      <th>2</th>\n",
       "      <td>7.82</td>\n",
       "      <td>3.25</td>\n",
       "    </tr>\n",
       "    <tr>\n",
       "      <th>3</th>\n",
       "      <td>7.42</td>\n",
       "      <td>3.67</td>\n",
       "    </tr>\n",
       "    <tr>\n",
       "      <th>4</th>\n",
       "      <td>6.94</td>\n",
       "      <td>3.57</td>\n",
       "    </tr>\n",
       "    <tr>\n",
       "      <th>5</th>\n",
       "      <td>7.89</td>\n",
       "      <td>2.99</td>\n",
       "    </tr>\n",
       "    <tr>\n",
       "      <th>6</th>\n",
       "      <td>6.73</td>\n",
       "      <td>2.60</td>\n",
       "    </tr>\n",
       "    <tr>\n",
       "      <th>7</th>\n",
       "      <td>6.75</td>\n",
       "      <td>2.48</td>\n",
       "    </tr>\n",
       "    <tr>\n",
       "      <th>8</th>\n",
       "      <td>6.09</td>\n",
       "      <td>2.31</td>\n",
       "    </tr>\n",
       "    <tr>\n",
       "      <th>9</th>\n",
       "      <td>8.31</td>\n",
       "      <td>3.51</td>\n",
       "    </tr>\n",
       "  </tbody>\n",
       "</table>\n",
       "</div>"
      ],
      "text/plain": [
       "   cgpa  package\n",
       "0  6.89     3.26\n",
       "1  5.12     1.98\n",
       "2  7.82     3.25\n",
       "3  7.42     3.67\n",
       "4  6.94     3.57\n",
       "5  7.89     2.99\n",
       "6  6.73     2.60\n",
       "7  6.75     2.48\n",
       "8  6.09     2.31\n",
       "9  8.31     3.51"
      ]
     },
     "execution_count": 117,
     "metadata": {},
     "output_type": "execute_result"
    }
   ],
   "source": [
    "new_data"
   ]
  },
  {
   "cell_type": "code",
   "execution_count": 118,
   "metadata": {},
   "outputs": [],
   "source": [
    "x_new = new_data[['cgpa']]\n",
    "y_new = new_data['package']"
   ]
  },
  {
   "cell_type": "markdown",
   "metadata": {},
   "source": [
    "## Cross Validation Methods"
   ]
  },
  {
   "cell_type": "markdown",
   "metadata": {},
   "source": [
    "### 1.Leave One Out"
   ]
  },
  {
   "cell_type": "code",
   "execution_count": 119,
   "metadata": {},
   "outputs": [
    {
     "name": "stdout",
     "output_type": "stream",
     "text": [
      "Train Data: [1 2 3 4 5 6 7 8 9], Test Data: [0]\n",
      "Train Data: [0 2 3 4 5 6 7 8 9], Test Data: [1]\n",
      "Train Data: [0 1 3 4 5 6 7 8 9], Test Data: [2]\n",
      "Train Data: [0 1 2 4 5 6 7 8 9], Test Data: [3]\n",
      "Train Data: [0 1 2 3 5 6 7 8 9], Test Data: [4]\n",
      "Train Data: [0 1 2 3 4 6 7 8 9], Test Data: [5]\n",
      "Train Data: [0 1 2 3 4 5 7 8 9], Test Data: [6]\n",
      "Train Data: [0 1 2 3 4 5 6 8 9], Test Data: [7]\n",
      "Train Data: [0 1 2 3 4 5 6 7 9], Test Data: [8]\n",
      "Train Data: [0 1 2 3 4 5 6 7 8], Test Data: [9]\n"
     ]
    }
   ],
   "source": [
    "loo = LeaveOneOut()\n",
    "\n",
    "for train, test in loo.split(x_new, y_new):\n",
    "    print(f\"Train Data: {train}, Test Data: {test}\")"
   ]
  },
  {
   "cell_type": "markdown",
   "metadata": {},
   "source": [
    "### 2.Leave P Out"
   ]
  },
  {
   "cell_type": "code",
   "execution_count": 120,
   "metadata": {},
   "outputs": [
    {
     "name": "stdout",
     "output_type": "stream",
     "text": [
      "Train Data: [2 3 4 5 6 7 8 9], Test Data: [0 1]\n",
      "Train Data: [1 3 4 5 6 7 8 9], Test Data: [0 2]\n",
      "Train Data: [1 2 4 5 6 7 8 9], Test Data: [0 3]\n",
      "Train Data: [1 2 3 5 6 7 8 9], Test Data: [0 4]\n",
      "Train Data: [1 2 3 4 6 7 8 9], Test Data: [0 5]\n",
      "Train Data: [1 2 3 4 5 7 8 9], Test Data: [0 6]\n",
      "Train Data: [1 2 3 4 5 6 8 9], Test Data: [0 7]\n",
      "Train Data: [1 2 3 4 5 6 7 9], Test Data: [0 8]\n",
      "Train Data: [1 2 3 4 5 6 7 8], Test Data: [0 9]\n",
      "Train Data: [0 3 4 5 6 7 8 9], Test Data: [1 2]\n",
      "Train Data: [0 2 4 5 6 7 8 9], Test Data: [1 3]\n",
      "Train Data: [0 2 3 5 6 7 8 9], Test Data: [1 4]\n",
      "Train Data: [0 2 3 4 6 7 8 9], Test Data: [1 5]\n",
      "Train Data: [0 2 3 4 5 7 8 9], Test Data: [1 6]\n",
      "Train Data: [0 2 3 4 5 6 8 9], Test Data: [1 7]\n",
      "Train Data: [0 2 3 4 5 6 7 9], Test Data: [1 8]\n",
      "Train Data: [0 2 3 4 5 6 7 8], Test Data: [1 9]\n",
      "Train Data: [0 1 4 5 6 7 8 9], Test Data: [2 3]\n",
      "Train Data: [0 1 3 5 6 7 8 9], Test Data: [2 4]\n",
      "Train Data: [0 1 3 4 6 7 8 9], Test Data: [2 5]\n",
      "Train Data: [0 1 3 4 5 7 8 9], Test Data: [2 6]\n",
      "Train Data: [0 1 3 4 5 6 8 9], Test Data: [2 7]\n",
      "Train Data: [0 1 3 4 5 6 7 9], Test Data: [2 8]\n",
      "Train Data: [0 1 3 4 5 6 7 8], Test Data: [2 9]\n",
      "Train Data: [0 1 2 5 6 7 8 9], Test Data: [3 4]\n",
      "Train Data: [0 1 2 4 6 7 8 9], Test Data: [3 5]\n",
      "Train Data: [0 1 2 4 5 7 8 9], Test Data: [3 6]\n",
      "Train Data: [0 1 2 4 5 6 8 9], Test Data: [3 7]\n",
      "Train Data: [0 1 2 4 5 6 7 9], Test Data: [3 8]\n",
      "Train Data: [0 1 2 4 5 6 7 8], Test Data: [3 9]\n",
      "Train Data: [0 1 2 3 6 7 8 9], Test Data: [4 5]\n",
      "Train Data: [0 1 2 3 5 7 8 9], Test Data: [4 6]\n",
      "Train Data: [0 1 2 3 5 6 8 9], Test Data: [4 7]\n",
      "Train Data: [0 1 2 3 5 6 7 9], Test Data: [4 8]\n",
      "Train Data: [0 1 2 3 5 6 7 8], Test Data: [4 9]\n",
      "Train Data: [0 1 2 3 4 7 8 9], Test Data: [5 6]\n",
      "Train Data: [0 1 2 3 4 6 8 9], Test Data: [5 7]\n",
      "Train Data: [0 1 2 3 4 6 7 9], Test Data: [5 8]\n",
      "Train Data: [0 1 2 3 4 6 7 8], Test Data: [5 9]\n",
      "Train Data: [0 1 2 3 4 5 8 9], Test Data: [6 7]\n",
      "Train Data: [0 1 2 3 4 5 7 9], Test Data: [6 8]\n",
      "Train Data: [0 1 2 3 4 5 7 8], Test Data: [6 9]\n",
      "Train Data: [0 1 2 3 4 5 6 9], Test Data: [7 8]\n",
      "Train Data: [0 1 2 3 4 5 6 8], Test Data: [7 9]\n",
      "Train Data: [0 1 2 3 4 5 6 7], Test Data: [8 9]\n"
     ]
    }
   ],
   "source": [
    "lpo = LeavePOut(p=2)\n",
    "\n",
    "for train, test in lpo.split(x_new, y_new):\n",
    "    print(f\"Train Data: {train}, Test Data: {test}\")"
   ]
  },
  {
   "cell_type": "markdown",
   "metadata": {},
   "source": [
    "### 3.K-Fold"
   ]
  },
  {
   "cell_type": "code",
   "execution_count": 121,
   "metadata": {},
   "outputs": [
    {
     "name": "stdout",
     "output_type": "stream",
     "text": [
      "Train Data: [2 3 4 5 6 7 8 9], Test Data: [0 1]\n",
      "Train Data: [0 1 4 5 6 7 8 9], Test Data: [2 3]\n",
      "Train Data: [0 1 2 3 6 7 8 9], Test Data: [4 5]\n",
      "Train Data: [0 1 2 3 4 5 8 9], Test Data: [6 7]\n",
      "Train Data: [0 1 2 3 4 5 6 7], Test Data: [8 9]\n"
     ]
    }
   ],
   "source": [
    "kf = KFold(n_splits=5)\n",
    "\n",
    "for train, test in kf.split(x_new, y_new):\n",
    "    print(f\"Train Data: {train}, Test Data: {test}\")"
   ]
  },
  {
   "cell_type": "markdown",
   "metadata": {},
   "source": [
    "### 4.Stratified K-Fold only works in Classification analysis   :(   :("
   ]
  },
  {
   "cell_type": "code",
   "execution_count": 122,
   "metadata": {},
   "outputs": [],
   "source": [
    "#skf = StratifiedKFold(n_splits=5)\n",
    "\n",
    "#for train, test in skf.split(x_new, y_new):\n",
    "#   print(f\"Train Data: {train}, Test Data: {test}\")"
   ]
  },
  {
   "cell_type": "markdown",
   "metadata": {},
   "source": [
    "## Cross Validation Score Example Using Linear Regression"
   ]
  },
  {
   "cell_type": "markdown",
   "metadata": {},
   "source": [
    "### 1.Simple Value"
   ]
  },
  {
   "cell_type": "code",
   "execution_count": 123,
   "metadata": {},
   "outputs": [
    {
     "data": {
      "text/plain": [
       "array([60.48000765, 65.67540106, 67.20523867, 69.890411  , 73.50599138,\n",
       "       74.37616704, 80.3181025 , 82.0986355 , 82.64799643, 83.96333567])"
      ]
     },
     "execution_count": 123,
     "metadata": {},
     "output_type": "execute_result"
    }
   ],
   "source": [
    "sc = cross_val_score(LinearRegression(), x, y, cv=10)\n",
    "sc.sort()\n",
    "sc*100"
   ]
  },
  {
   "cell_type": "markdown",
   "metadata": {},
   "source": [
    "### 2.Using Special Method (ie. K-Fold)"
   ]
  },
  {
   "cell_type": "code",
   "execution_count": 124,
   "metadata": {},
   "outputs": [
    {
     "data": {
      "text/plain": [
       "array([21.10649528, 50.11279915, 55.20455718, 59.10961505, 63.90636747,\n",
       "       64.25812894, 70.4717229 , 71.7317162 , 71.81324716, 73.06523833,\n",
       "       73.53529779, 74.79889073, 76.85308421, 77.35049667, 78.92047672,\n",
       "       81.36536937, 82.46384717, 82.47658021, 88.9006271 , 91.16478623])"
      ]
     },
     "execution_count": 124,
     "metadata": {},
     "output_type": "execute_result"
    }
   ],
   "source": [
    "sc = cross_val_score(LinearRegression(), x, y, cv=KFold(n_splits=20))\n",
    "sc.sort()\n",
    "sc*100"
   ]
  }
 ],
 "metadata": {
  "kernelspec": {
   "display_name": "base",
   "language": "python",
   "name": "python3"
  },
  "language_info": {
   "codemirror_mode": {
    "name": "ipython",
    "version": 3
   },
   "file_extension": ".py",
   "mimetype": "text/x-python",
   "name": "python",
   "nbconvert_exporter": "python",
   "pygments_lexer": "ipython3",
   "version": "3.12.4"
  }
 },
 "nbformat": 4,
 "nbformat_minor": 2
}
